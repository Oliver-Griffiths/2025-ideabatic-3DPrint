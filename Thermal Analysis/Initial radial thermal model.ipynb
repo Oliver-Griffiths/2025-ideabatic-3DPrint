{
 "cells": [
  {
   "cell_type": "code",
   "execution_count": 97,
   "id": "1459f897",
   "metadata": {},
   "outputs": [],
   "source": [
    "import numpy as np\n",
    "import matplotlib.pyplot as plt\n",
    "\n",
    "l = 0.2 #length of container\n",
    "#function to generate radial thermal resistance\n",
    "def Rth_radial(r1,r2, k):\n",
    "    Rth = np.log(r2/r1) / (2*np.pi*l*k)\n",
    "    return Rth\n"
   ]
  },
  {
   "cell_type": "code",
   "execution_count": 98,
   "id": "0d59be97",
   "metadata": {},
   "outputs": [
    {
     "name": "stdout",
     "output_type": "stream",
     "text": [
      "41.0cm\n"
     ]
    }
   ],
   "source": [
    "#Approach: generate thermal resistances of key insulation components and run basic simulation\n",
    "\n",
    "#Defining key variables for cooler design. This model IGNORES plastic conduction.\n",
    "R_ice = 0.08 #guess for 500ml bottle\n",
    "#first insulation layer between ice and vaccines\n",
    "t_insulation = 0.005 #stops vaccine freezing\n",
    "R_insulation = R_ice + t_insulation \n",
    "k_insulation = 0.03\n",
    "Rth_insulation = Rth_radial(R_ice, R_insulation, k_insulation)\n",
    "#air gap containing vaccines\n",
    "t_air = 0.04\n",
    "R_air = R_insulation + t_air\n",
    "k_air = 0.024\n",
    "Rth_air = Rth_radial(R_insulation, R_air, k_air)\n",
    "#foam outer layer \n",
    "t_foam = 0.08\n",
    "R_foam = R_air + t_foam\n",
    "k_foam = 0.03\n",
    "Rth_foam = Rth_radial(R_air, R_foam, k_foam)\n",
    "#printing total part diameter, for refernce:\n",
    "print(str(R_foam*2*100) + \"cm\")\n",
    "\n"
   ]
  },
  {
   "cell_type": "code",
   "execution_count": 99,
   "id": "b464ca04",
   "metadata": {},
   "outputs": [
    {
     "name": "stdout",
     "output_type": "stream",
     "text": [
      "0.17206683866534264\n",
      "27.68992903620713\n"
     ]
    }
   ],
   "source": [
    "#Convection loss estimation\n",
    "v = 1 #this is speed of external air\n",
    "h_outer = 12.12-1.16*v+11.6*v**(1/2) # #empirical relationship https://www.engineeringtoolbox.com/convective-heat-transfer-d_430.html - this is an empirical equation and can be used for velocities 2 to 20 m/s.\n",
    "Rth_convection = 1/(2*np.pi*R_foam*l*h_outer)\n",
    "\n",
    "#total thermal resistance \n",
    "Rth_total =  Rth_foam + Rth_air + Rth_insulation + Rth_convection\n",
    "\n",
    "print(Rth_convection)\n",
    "\n",
    "print(Rth_total)\n"
   ]
  },
  {
   "cell_type": "code",
   "execution_count": 100,
   "id": "1b8987e7",
   "metadata": {},
   "outputs": [],
   "source": [
    "#Flat surface simulation\n",
    "#Constructed of insulated and foam layer\n",
    "def Rth_linear(l, A, k):\n",
    "    Rth = l/(A*k)\n",
    "    return Rth\n",
    "\n",
    "A = np.pi * R_ice * R_ice\n",
    "\n",
    "#first insulation layer, the same layer used around ice bottle circumfrence\n",
    "t_flat_insulation = t_insulation\n",
    "\n",
    "Rth_Flat_Insulation = Rth_linear(t_flat_insulation, A, k_insulation)\n",
    "\n",
    "#second insulation layer \n",
    "t_flat_foam = 0.05\n",
    "\n",
    "Rth_flat_foam = Rth_linear(t_flat_foam, A , k_insulation)\n",
    "\n",
    "Rth_flat_total = Rth_Flat_Insulation + Rth_flat_foam\n",
    "\n"
   ]
  },
  {
   "cell_type": "code",
   "execution_count": 101,
   "id": "c3e5f179",
   "metadata": {},
   "outputs": [
    {
     "name": "stdout",
     "output_type": "stream",
     "text": [
      "1.7414472564955976\n"
     ]
    }
   ],
   "source": [
    "#setting up simulation\n",
    "T_e = 30 #degc, environment temp\n",
    "T_ice = 0 #degc, ice temp\n",
    "del_T = T_e - T_ice\n",
    "Q_dot_radial = del_T / Rth_total #using ohms analogy\n",
    "Q_dot_linear = 2 * del_T / Rth_flat_total\n",
    "Q_dot = Q_dot_linear + Q_dot_radial\n",
    "print(Q_dot)"
   ]
  },
  {
   "cell_type": "code",
   "execution_count": 102,
   "id": "7d1fdc42",
   "metadata": {},
   "outputs": [
    {
     "name": "stdout",
     "output_type": "stream",
     "text": [
      "133.19062267277505\n"
     ]
    }
   ],
   "source": [
    "#Estimating phase change duration \n",
    "m_ice = 2.5 #kg\n",
    "SLH_ice = 334000 #j/kg\n",
    "Q_ice = SLH_ice * m_ice\n",
    "\n",
    "t_cool = Q_ice/Q_dot # seconds\n",
    "t_cool_hours = t_cool / 3600\n",
    "\n",
    "print(t_cool_hours)"
   ]
  },
  {
   "cell_type": "code",
   "execution_count": 103,
   "id": "a2338755",
   "metadata": {},
   "outputs": [
    {
     "name": "stdout",
     "output_type": "stream",
     "text": [
      "2.8004527474749965\n",
      "25.06924225964227\n"
     ]
    }
   ],
   "source": [
    "#Calculating temperature at each boundary \n",
    "del_T_insulation = Q_dot * Rth_insulation \n",
    "print(del_T_insulation)\n",
    "del_T_air = Q_dot * Rth_air\n",
    "T_air_edge = del_T_air + del_T_insulation\n",
    "print(T_air_edge)"
   ]
  },
  {
   "cell_type": "code",
   "execution_count": null,
   "id": "53990edb",
   "metadata": {},
   "outputs": [],
   "source": []
  }
 ],
 "metadata": {
  "kernelspec": {
   "display_name": "base",
   "language": "python",
   "name": "python3"
  },
  "language_info": {
   "codemirror_mode": {
    "name": "ipython",
    "version": 3
   },
   "file_extension": ".py",
   "mimetype": "text/x-python",
   "name": "python",
   "nbconvert_exporter": "python",
   "pygments_lexer": "ipython3",
   "version": "3.11.7"
  }
 },
 "nbformat": 4,
 "nbformat_minor": 5
}
