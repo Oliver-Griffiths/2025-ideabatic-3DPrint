{
 "cells": [
  {
   "cell_type": "code",
   "execution_count": 1,
   "id": "1459f897",
   "metadata": {},
   "outputs": [],
   "source": [
    "import numpy as np\n",
    "import matplotlib.pyplot as plt\n",
    "\n",
    "l = 0.14 #length of container\n",
    "#function to generate radial thermal resistance\n",
    "def Rth_radial(r1,r2, k):\n",
    "    Rth = np.log(r2/r1) / (2*np.pi*l*k)\n",
    "    return Rth\n"
   ]
  },
  {
   "cell_type": "code",
   "execution_count": 12,
   "id": "0d59be97",
   "metadata": {},
   "outputs": [
    {
     "name": "stdout",
     "output_type": "stream",
     "text": [
      "18.8cm\n"
     ]
    }
   ],
   "source": [
    "#Approach: generate thermal resistances of key insulation components and run basic simulation\n",
    "\n",
    "#Defining key variables for cooler design. This model IGNORES plastic conduction.\n",
    "R_ice = 0.045\n",
    "#first insulation layer between ice and vaccines\n",
    "t_insulation = 0.005\n",
    "R_insulation = R_ice + t_insulation \n",
    "k_insulation = 0.02\n",
    "Rth_insulation = Rth_radial(R_ice, R_insulation, k_insulation)\n",
    "#air gap containing vaccines\n",
    "t_air = 0.024\n",
    "R_air = R_insulation + t_air\n",
    "k_air = 0.024\n",
    "Rth_air = Rth_radial(R_insulation, R_air, k_air)\n",
    "#foam outer layer \n",
    "t_foam = 0.02\n",
    "R_foam = R_air + t_foam\n",
    "k_foam = 0.02\n",
    "Rth_foam = Rth_radial(R_air, R_foam, k_foam)\n",
    "#printing total part diameter, for refernce:\n",
    "print(str(R_foam*2*100) + \"cm\")\n",
    "\n"
   ]
  },
  {
   "cell_type": "code",
   "execution_count": 13,
   "id": "b464ca04",
   "metadata": {},
   "outputs": [
    {
     "name": "stdout",
     "output_type": "stream",
     "text": [
      "0.5360744973616298\n",
      "38.69301422266026\n"
     ]
    }
   ],
   "source": [
    "#Convection loss estimation\n",
    "v = 1 #this is speed of external air\n",
    "h_outer = 12.12-1.16*v+11.6*v**(1/2) # #empirical relationship https://www.engineeringtoolbox.com/convective-heat-transfer-d_430.html - this is an empirical equation and can be used for velocities 2 to 20 m/s.\n",
    "Rth_convection = 1/(2*np.pi*R_foam*l*h_outer)\n",
    "\n",
    "#total thermal resistance \n",
    "Rth_total =  Rth_foam + Rth_air + Rth_insulation + Rth_convection\n",
    "\n",
    "print(Rth_convection)\n",
    "\n",
    "print(Rth_total)\n"
   ]
  },
  {
   "cell_type": "code",
   "execution_count": 8,
   "id": "c3e5f179",
   "metadata": {},
   "outputs": [
    {
     "name": "stdout",
     "output_type": "stream",
     "text": [
      "0.5747808935584482\n"
     ]
    }
   ],
   "source": [
    "#setting up simulation\n",
    "T_e = 30 #degc, environment temp\n",
    "T_ice = 0 #degc, ice temp\n",
    "del_T = T_e - T_ice\n",
    "Q_dot = del_T / Rth_total #using ohms analogy\n",
    "\n",
    "print(Q_dot)"
   ]
  },
  {
   "cell_type": "code",
   "execution_count": 14,
   "id": "7d1fdc42",
   "metadata": {},
   "outputs": [
    {
     "name": "stdout",
     "output_type": "stream",
     "text": [
      "161.41416462783556\n"
     ]
    }
   ],
   "source": [
    "#Estimating phase change duration \n",
    "m_ice = 1 #kg\n",
    "SLH_ice = 334000 #j/kg\n",
    "Q_ice = SLH_ice * m_ice\n",
    "\n",
    "t_cool = Q_ice/Q_dot # seconds\n",
    "t_cool_hours = t_cool / 3600\n",
    "\n",
    "print(t_cool_hours)"
   ]
  },
  {
   "cell_type": "code",
   "execution_count": 15,
   "id": "a2338755",
   "metadata": {},
   "outputs": [
    {
     "name": "stdout",
     "output_type": "stream",
     "text": [
      "3.4422492263589217\n",
      "14.11597082027077\n"
     ]
    }
   ],
   "source": [
    "#Calculating temperature at each boundary \n",
    "del_T_insulation = Q_dot * Rth_insulation \n",
    "print(del_T_insulation)\n",
    "del_T_air = Q_dot * Rth_air\n",
    "T_air_edge = del_T_air + del_T_insulation\n",
    "print(T_air_edge)"
   ]
  },
  {
   "cell_type": "code",
   "execution_count": null,
   "id": "53990edb",
   "metadata": {},
   "outputs": [
    {
     "name": "stdout",
     "output_type": "stream",
     "text": [
      "24.000000000000004cm\n",
      "0.41992502293327666\n",
      "52.19380173594682\n",
      "0.5747808935584482\n",
      "161.41416462783556\n",
      "0.7180761614210913\n",
      "12.148999517292454\n"
     ]
    }
   ],
   "source": []
  }
 ],
 "metadata": {
  "kernelspec": {
   "display_name": "base",
   "language": "python",
   "name": "python3"
  },
  "language_info": {
   "codemirror_mode": {
    "name": "ipython",
    "version": 3
   },
   "file_extension": ".py",
   "mimetype": "text/x-python",
   "name": "python",
   "nbconvert_exporter": "python",
   "pygments_lexer": "ipython3",
   "version": "3.11.7"
  }
 },
 "nbformat": 4,
 "nbformat_minor": 5
}
